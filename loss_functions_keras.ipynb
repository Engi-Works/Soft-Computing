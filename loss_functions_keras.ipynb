{
  "nbformat": 4,
  "nbformat_minor": 0,
  "metadata": {
    "colab": {
      "provenance": []
    },
    "kernelspec": {
      "name": "python3",
      "display_name": "Python 3"
    },
    "language_info": {
      "name": "python"
    }
  },
  "cells": [
    {
      "cell_type": "code",
      "execution_count": null,
      "metadata": {
        "id": "44ouLLeY4Yo7"
      },
      "outputs": [],
      "source": [
        "import numpy as np\n",
        "y_target = np.array([1,0,1,1])\n",
        "y_pred = np.array([0.91,0.2,0.82,0.32])\n",
        "\n",
        "# define loss function\n",
        "\n",
        "# mean absolute error\n",
        "def mae(y_target, y_pred):\n",
        "    return np.mean(np.abs(y_target - y_pred))\n",
        "\n",
        "# mean squared error\n",
        "def mse(y_target, y_pred):\n",
        "    return np.mean((y_target - y_pred)**2)\n",
        "\n",
        "# root mean squared error\n",
        "def rmse(y_target, y_pred):\n",
        "    return np.sqrt(mse(y_target, y_pred))"
      ]
    },
    {
      "cell_type": "code",
      "source": [
        "#binary\n",
        "def binary(y,ypred):\n",
        "    op=(np.dot(y,np.log(ypred))+np.dot((1-y),np.log(1-ypred)))*-1\n",
        "    return op\n",
        "\n",
        "#categorical\n",
        "def categorical(y,ypred):\n",
        "    op=(np.dot(y,np.log(ypred)))*-1\n",
        "    return op\n",
        "\n",
        "#sparse\n",
        "def sparse(yind,ypred):\n",
        "    op = []\n",
        "    for i in range(len(yind)):\n",
        "        val = -np.log(ypred[i][yind[i]])\n",
        "        op.append(val)\n",
        "    return op"
      ],
      "metadata": {
        "id": "vBGO6Vof4ptK"
      },
      "execution_count": null,
      "outputs": []
    },
    {
      "cell_type": "code",
      "source": [
        "y = np.array([1.0,0.0,1.0,1.0])\n",
        "ypred = np.array([0.81,0.2,0.82,0.32])\n",
        "y_true = [1, 2]\n",
        "y_pred = [[0.05, 0.95, 0], [0.1, 0.8, 0.1]]\n",
        "\n",
        "op=mae(y,ypred);\n",
        "print(\"Mean Absolute Error: \",op)\n",
        "\n",
        "op=mse(y,ypred);\n",
        "print(\"Mean Squared Error: \",op)\n",
        "\n",
        "op=rmse(y,ypred);\n",
        "print(\"Root Mean Squared Error: \",op)\n",
        "\n",
        "op=binary(y,ypred);\n",
        "print(\"Binary Cross Entropy: \",op)\n",
        "\n",
        "op=categorical(y,ypred);\n",
        "print(\"Categorical Cross Entropy: \",op)\n",
        "\n",
        "op=sparse(y_true,y_pred);\n",
        "print(\"Sparse Categorical Cross Entropy: \",op)\n"
      ],
      "metadata": {
        "colab": {
          "base_uri": "https://localhost:8080/"
        },
        "id": "ZHFAMOPQ4uZq",
        "outputId": "19dd6362-8a23-4060-f9ce-438d3202d36c"
      },
      "execution_count": null,
      "outputs": [
        {
          "output_type": "stream",
          "name": "stdout",
          "text": [
            "Mean Absolute Error:  0.3125\n",
            "Mean Squared Error:  0.142725\n",
            "Root Mean Squared Error:  0.3777896239972718\n",
            "Binary Cross Entropy:  1.7717498045420654\n",
            "Categorical Cross Entropy:  1.5486062532278557\n",
            "Sparse Categorical Cross Entropy:  [0.05129329438755058, 2.3025850929940455]\n"
          ]
        }
      ]
    },
    {
      "cell_type": "code",
      "source": [
        "import os\n",
        "os.environ[\"KERAS_BACKEND\"] = \"tensorflow\"\n",
        "import keras\n",
        "from keras import layers\n",
        "import numpy as np\n",
        "\n",
        "y_true = np.array([0, 1, 0, 1])\n",
        "y_pred = np.array([-14.2, 0.62, 3.54, -15.8])\n",
        "\n",
        "op = keras.losses.mean_absolute_error(y_true, y_pred)\n",
        "print(\"Mean Absolute Error: \",op)\n",
        "\n",
        "op = keras.losses.mean_squared_error(y_true, y_pred)\n",
        "print(\"Mean Squared Error: \",op)\n",
        "\n",
        "loss_fn = keras.losses.BinaryCrossentropy(from_logits=True)\n",
        "op=loss_fn(y_true,y_pred)\n",
        "print(\"Binary Cross Entropy: \",op)\n",
        "\n",
        "loss_fn = keras.losses.CategoricalCrossentropy(from_logits=True)\n",
        "op=loss_fn(y_true,y_pred)\n",
        "print(\"Categorical Cross Entropy: \",op)\n",
        "\n",
        "y_true = [1, 2]\n",
        "y_pred = [[0.05, 0.95, 0], [0.1, 0.8, 0.1]]\n",
        "op = keras.losses.sparse_categorical_crossentropy(y_true, y_pred)\n",
        "print(\"Sparse Categorical Cross Entropy: \",op)"
      ],
      "metadata": {
        "colab": {
          "base_uri": "https://localhost:8080/"
        },
        "id": "8hXcSqib4_G2",
        "outputId": "edf1cc28-de6b-4eaa-d97d-c4a0c4bc0127"
      },
      "execution_count": null,
      "outputs": [
        {
          "output_type": "stream",
          "name": "stdout",
          "text": [
            "Mean Absolute Error:  tf.Tensor(8.73, shape=(), dtype=float64)\n",
            "Mean Squared Error:  tf.Tensor(124.13900000000001, shape=(), dtype=float64)\n",
            "Binary Cross Entropy:  tf.Tensor(4.949761992633806, shape=(), dtype=float64)\n",
            "Categorical Cross Entropy:  tf.Tensor(22.36505911078074, shape=(), dtype=float64)\n",
            "Sparse Categorical Cross Entropy:  tf.Tensor([0.05129344 2.3025851 ], shape=(2,), dtype=float32)\n"
          ]
        }
      ]
    },
    {
      "cell_type": "code",
      "source": [
        "import numpy as np\n",
        "from keras.models import Sequential\n",
        "from keras.layers import Dense\n",
        "import random\n",
        "\n",
        "# Generate some dummy data for training\n",
        "x_train_data = np.random.random((1000, 3))\n",
        "lis=[]\n",
        "for i in range(1000):\n",
        "    rnd=random.randrange(0,3)\n",
        "    possib=np.array([0,0,0])\n",
        "    possib[rnd]=1\n",
        "    lis.append(possib)\n",
        "\n",
        "y_train_data = np.array(lis)\n",
        "\n",
        "# Building the model\n",
        "model = Sequential()\n",
        "model.add(Dense(2, activation='relu', input_dim=3))\n",
        "model.add(Dense(3, activation='relu'))\n",
        "model.add(Dense(3, activation='softmax'))\n",
        "\n",
        "# Compiling the model\n",
        "model.compile(optimizer='adam', loss='binary_crossentropy', metrics=['accuracy'])\n",
        "\n",
        "# Train the model\n",
        "model.fit(x_train_data,y_train_data, epochs=20, batch_size=10)\n",
        "\n",
        "x_test_data = np.random.random((100, 3))\n",
        "y_test_data = np.random.randint(2, size=(100, 3))\n",
        "\n",
        "# Evaluating the model on the test data\n",
        "loss, accuracy = model.evaluate(x_test_data, y_test_data)\n",
        "print('Test model loss:', loss)\n",
        "print('Test model accuracy:', accuracy)"
      ],
      "metadata": {
        "colab": {
          "base_uri": "https://localhost:8080/"
        },
        "id": "LjmvEfNb5Jhr",
        "outputId": "a66bb27d-7d01-4384-c62f-50855b32868d"
      },
      "execution_count": null,
      "outputs": [
        {
          "output_type": "stream",
          "name": "stdout",
          "text": [
            "Epoch 1/20\n",
            "100/100 [==============================] - 4s 4ms/step - loss: 0.6843 - accuracy: 0.3490\n",
            "Epoch 2/20\n",
            "100/100 [==============================] - 0s 3ms/step - loss: 0.6579 - accuracy: 0.3360\n",
            "Epoch 3/20\n",
            "100/100 [==============================] - 0s 5ms/step - loss: 0.6467 - accuracy: 0.3340\n",
            "Epoch 4/20\n",
            "100/100 [==============================] - 0s 3ms/step - loss: 0.6430 - accuracy: 0.3330\n",
            "Epoch 5/20\n",
            "100/100 [==============================] - 0s 3ms/step - loss: 0.6417 - accuracy: 0.3420\n",
            "Epoch 6/20\n",
            "100/100 [==============================] - 0s 3ms/step - loss: 0.6407 - accuracy: 0.3380\n",
            "Epoch 7/20\n",
            "100/100 [==============================] - 0s 4ms/step - loss: 0.6401 - accuracy: 0.3340\n",
            "Epoch 8/20\n",
            "100/100 [==============================] - 0s 3ms/step - loss: 0.6396 - accuracy: 0.3460\n",
            "Epoch 9/20\n",
            "100/100 [==============================] - 0s 4ms/step - loss: 0.6391 - accuracy: 0.3380\n",
            "Epoch 10/20\n",
            "100/100 [==============================] - 1s 7ms/step - loss: 0.6386 - accuracy: 0.3320\n",
            "Epoch 11/20\n",
            "100/100 [==============================] - 1s 9ms/step - loss: 0.6383 - accuracy: 0.3430\n",
            "Epoch 12/20\n",
            "100/100 [==============================] - 1s 7ms/step - loss: 0.6379 - accuracy: 0.3370\n",
            "Epoch 13/20\n",
            "100/100 [==============================] - 1s 8ms/step - loss: 0.6378 - accuracy: 0.3410\n",
            "Epoch 14/20\n",
            "100/100 [==============================] - 0s 3ms/step - loss: 0.6375 - accuracy: 0.3500\n",
            "Epoch 15/20\n",
            "100/100 [==============================] - 0s 2ms/step - loss: 0.6374 - accuracy: 0.3470\n",
            "Epoch 16/20\n",
            "100/100 [==============================] - 0s 2ms/step - loss: 0.6371 - accuracy: 0.3540\n",
            "Epoch 17/20\n",
            "100/100 [==============================] - 0s 2ms/step - loss: 0.6370 - accuracy: 0.3450\n",
            "Epoch 18/20\n",
            "100/100 [==============================] - 0s 2ms/step - loss: 0.6368 - accuracy: 0.3520\n",
            "Epoch 19/20\n",
            "100/100 [==============================] - 0s 2ms/step - loss: 0.6368 - accuracy: 0.3510\n",
            "Epoch 20/20\n",
            "100/100 [==============================] - 0s 2ms/step - loss: 0.6367 - accuracy: 0.3570\n",
            "4/4 [==============================] - 0s 3ms/step - loss: 0.7543 - accuracy: 0.2200\n",
            "Test model loss: 0.7543342113494873\n",
            "Test model accuracy: 0.2199999988079071\n"
          ]
        }
      ]
    }
  ]
}