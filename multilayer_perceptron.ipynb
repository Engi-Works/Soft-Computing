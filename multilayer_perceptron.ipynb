{
  "nbformat": 4,
  "nbformat_minor": 0,
  "metadata": {
    "colab": {
      "provenance": []
    },
    "kernelspec": {
      "name": "python3",
      "display_name": "Python 3"
    },
    "language_info": {
      "name": "python"
    }
  },
  "cells": [
    {
      "cell_type": "code",
      "execution_count": null,
      "metadata": {
        "colab": {
          "base_uri": "https://localhost:8080/"
        },
        "id": "hLPhPP1ab3eG",
        "outputId": "698eb599-39de-41fd-d49d-7f1de782b8fb"
      },
      "outputs": [
        {
          "output_type": "stream",
          "name": "stdout",
          "text": [
            "[[2. 2. 3. 3.]\n",
            " [1. 2. 3. 3.]\n",
            " [2. 1. 4. 1.]]\n",
            "element:  2.0\n",
            "Prediction after pass 0  =  0.731061980263935485\n",
            "Prediction after pass 1  =  0.731061980263935485\n",
            "Prediction after pass 2  =  0.731061980263935485\n"
          ]
        }
      ],
      "source": [
        "#multilayer perceptron\n",
        "import numpy as np\n",
        "\n",
        "def sig(x):\n",
        "    return 1/(1+np.exp(-x))\n",
        "\n",
        "#w=np.array([1.0,1.0,1.0,1.0,1.0,1.0,1.0,1.0,1.0,1.0,1.0,1.0,1.0,1.0,1.0])\n",
        "\n",
        "w_node1 = np.array([1.0,1.0,1.0,1.0] , dtype=np.float128)\n",
        "w_node2 = np.array([1.0,1.0,1.0,1.0] , dtype=np.float128)\n",
        "w_node3 = np.array([1.0,1.0,1.0,1.0] , dtype=np.float128)\n",
        "\n",
        "w_node_2nd = np.array([1.0,1.0,1.0], dtype=np.float128)\n",
        "hidden_output = np.array([0,0,0] , dtype=np.float128)\n",
        "\n",
        "#dw=np.array([1.0,1.0,1.0,1.0,1.0,1.0,1.0,1.0,1.0,1.0,1.0,1.0,1.0,1.0,1.0])\n",
        "\n",
        "bias=np.array([1.0,1.0], dtype=np.float128)\n",
        "input_x =np.array([2,2,3,3,1,2,3,3,2,1,4,1], dtype=np.float128)\n",
        "input_x = np.reshape(input_x,(3,4))\n",
        "\n",
        "print(input_x)\n",
        "\n",
        "print('element: ' , input_x[0][0])\n",
        "y_org=np.array([0,0,1], dtype=np.float128)\n",
        "epsi = .00001\n",
        "learning_rate=0.25\n",
        "y_pred=0\n",
        "err=1\n",
        "epoch=0\n",
        "\n",
        "\n",
        "for i in range (3):\n",
        "\n",
        "  w_node1 = np.array([1.0,1.0,1.0,1.0] , dtype=np.float128)\n",
        "  w_node2 = np.array([1.0,1.0,1.0,1.0] , dtype=np.float128)\n",
        "  w_node3 = np.array([1.0,1.0,1.0,1.0] , dtype=np.float128)\n",
        "\n",
        "  w_node_2nd = np.array([1.0,1.0,1.0], dtype=np.float128)\n",
        "  hidden_output = np.array([0,0,0] , dtype=np.float128)\n",
        "\n",
        "  while((err>epsi) and epoch<100):\n",
        "\n",
        "      hidden_output[0]=sig(np.dot(w_node1 , input_x[i] ) + bias[0])\n",
        "      hidden_output[1]=sig(np.dot(w_node2 , input_x[i] ) + bias[0])\n",
        "      hidden_output[2]=sig(np.dot(w_node3 , input_x[i] ) + bias[0])\n",
        "\n",
        "      y_pred=sig(np.dot(w_node_2nd , hidden_output ) + bias[1])\n",
        "\n",
        "      err=abs(y_pred-y_org[i])\n",
        "\n",
        "      w_node_2nd[0] =  w_node_2nd[0] - learning_rate* (err)*y_pred*(1-y_pred) *hidden_output[0]\n",
        "      w_node_2nd[1] =  w_node_2nd[1] - learning_rate* (err)*y_pred*(1-y_pred) *hidden_output[1]\n",
        "      w_node_2nd[2] =  w_node_2nd[2] - learning_rate* (err)*y_pred*(1-y_pred) *hidden_output[2]\n",
        "\n",
        "      w_node1[0] = w_node1[0] - learning_rate* (err)*y_pred*(1-y_pred)*w_node_2nd[0] *input_x[i][0]\n",
        "      w_node1[1] = w_node1[1] - learning_rate* (err)*y_pred*(1-y_pred)*w_node_2nd[0] *input_x[i][1]\n",
        "      w_node1[2] = w_node1[2] - learning_rate* (err)*y_pred*(1-y_pred)*w_node_2nd[0] *input_x[i][2]\n",
        "      w_node1[3] = w_node1[3] - learning_rate* (err)*y_pred*(1-y_pred)*w_node_2nd[0] *input_x[i][3]\n",
        "\n",
        "      w_node2[0] = w_node2[0] - learning_rate* (err)*y_pred*(1-y_pred)*w_node_2nd[1] *input_x[i][0]\n",
        "      w_node2[1] = w_node2[1] - learning_rate* (err)*y_pred*(1-y_pred)*w_node_2nd[1] *input_x[i][1]\n",
        "      w_node2[2] = w_node2[2] - learning_rate* (err)*y_pred*(1-y_pred)*w_node_2nd[1] *input_x[i][2]\n",
        "      w_node2[3] = w_node2[3] - learning_rate* (err)*y_pred*(1-y_pred)*w_node_2nd[1] *input_x[i][3]\n",
        "\n",
        "      w_node3[0] = w_node3[0] - learning_rate* (err)*y_pred*(1-y_pred)*w_node_2nd[2] *input_x[i][0]\n",
        "      w_node3[1] = w_node3[1] - learning_rate* (err)*y_pred*(1-y_pred)*w_node_2nd[2] *input_x[i][1]\n",
        "      w_node3[2] = w_node3[2] - learning_rate* (err)*y_pred*(1-y_pred)*w_node_2nd[2] *input_x[i][2]\n",
        "      w_node3[3] = w_node3[3] - learning_rate* (err)*y_pred*(1-y_pred)*w_node_2nd[2] *input_x[i][3]\n",
        "\n",
        "\n",
        "      epoch = epoch + 1\n",
        "\n",
        "\n",
        "  print('Prediction after pass', i ,' = ' ,y_pred)"
      ]
    }
  ]
}