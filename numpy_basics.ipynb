{
  "nbformat": 4,
  "nbformat_minor": 0,
  "metadata": {
    "colab": {
      "provenance": []
    },
    "kernelspec": {
      "name": "python3",
      "display_name": "Python 3"
    },
    "language_info": {
      "name": "python"
    }
  },
  "cells": [
    {
      "cell_type": "code",
      "execution_count": null,
      "metadata": {
        "id": "NQsB3AUkUo97"
      },
      "outputs": [],
      "source": [
        "import numpy as np\n",
        "import matplotlib.pyplot as plt\n",
        "import math , sys"
      ]
    },
    {
      "cell_type": "code",
      "source": [
        "#Creating a 2-D Array\n",
        "x = np.array ( [ [4,7,2] , [6,8,9] ] )\n",
        "print(x)"
      ],
      "metadata": {
        "colab": {
          "base_uri": "https://localhost:8080/"
        },
        "id": "c6XDCHAhWjIo",
        "outputId": "e84df42d-129a-40c5-e81d-fa9e390c508a"
      },
      "execution_count": null,
      "outputs": [
        {
          "output_type": "stream",
          "name": "stdout",
          "text": [
            "[[4 7 2]\n",
            " [6 8 9]]\n"
          ]
        }
      ]
    },
    {
      "cell_type": "code",
      "source": [
        "#Deriving the shape of some array\n",
        "#2 Rows , 3 Columns\n",
        "x.shape"
      ],
      "metadata": {
        "colab": {
          "base_uri": "https://localhost:8080/"
        },
        "id": "ZjekWk75W2ej",
        "outputId": "f05bf3f3-081a-47ed-c238-fcc09b4115ba"
      },
      "execution_count": null,
      "outputs": [
        {
          "output_type": "execute_result",
          "data": {
            "text/plain": [
              "(2, 3)"
            ]
          },
          "metadata": {},
          "execution_count": 4
        }
      ]
    },
    {
      "cell_type": "code",
      "source": [
        "#Finding the size\n",
        "x.size"
      ],
      "metadata": {
        "colab": {
          "base_uri": "https://localhost:8080/"
        },
        "id": "W8lg8rlHXR0O",
        "outputId": "6df83b5e-5180-44dd-d354-14bd7a6ddf54"
      },
      "execution_count": null,
      "outputs": [
        {
          "output_type": "execute_result",
          "data": {
            "text/plain": [
              "6"
            ]
          },
          "metadata": {},
          "execution_count": 5
        }
      ]
    },
    {
      "cell_type": "code",
      "source": [
        "#Creating an array using numpy , arange() and reshape()\n",
        "x = np.arange(0,20,1).reshape(4,5)\n",
        "print(x)"
      ],
      "metadata": {
        "colab": {
          "base_uri": "https://localhost:8080/"
        },
        "id": "cCMt90mDXd7_",
        "outputId": "190b0a94-56d7-4e06-a41a-ea563914a529"
      },
      "execution_count": null,
      "outputs": [
        {
          "output_type": "stream",
          "name": "stdout",
          "text": [
            "[[ 0  1  2  3  4]\n",
            " [ 5  6  7  8  9]\n",
            " [10 11 12 13 14]\n",
            " [15 16 17 18 19]]\n"
          ]
        }
      ]
    },
    {
      "cell_type": "code",
      "source": [
        "#Number Of columns is generic in this case.\n",
        "x = np.arange(0,20,1).reshape(2,-1)\n",
        "print(x)"
      ],
      "metadata": {
        "colab": {
          "base_uri": "https://localhost:8080/"
        },
        "id": "1jftAWO1YQA4",
        "outputId": "be7428ab-7f03-4e54-979f-36e4b160bc5b"
      },
      "execution_count": null,
      "outputs": [
        {
          "output_type": "stream",
          "name": "stdout",
          "text": [
            "[[ 0  1  2  3  4  5  6  7  8  9]\n",
            " [10 11 12 13 14 15 16 17 18 19]]\n"
          ]
        }
      ]
    },
    {
      "cell_type": "code",
      "source": [
        "#Printing Rows i.e. Slicing specific rows\n",
        "x = np.arange(0,80,1).reshape(-1,5)\n",
        "print(x)\n",
        "slice = x[1]\n",
        "print('\\nExtracting 2nd Row:')\n",
        "print(slice)"
      ],
      "metadata": {
        "colab": {
          "base_uri": "https://localhost:8080/"
        },
        "id": "tHMpMIlxY9J-",
        "outputId": "6bc7bb89-2689-443a-b038-1b8c0dcbd4c4"
      },
      "execution_count": null,
      "outputs": [
        {
          "output_type": "stream",
          "name": "stdout",
          "text": [
            "[[ 0  1  2  3  4]\n",
            " [ 5  6  7  8  9]\n",
            " [10 11 12 13 14]\n",
            " [15 16 17 18 19]\n",
            " [20 21 22 23 24]\n",
            " [25 26 27 28 29]\n",
            " [30 31 32 33 34]\n",
            " [35 36 37 38 39]\n",
            " [40 41 42 43 44]\n",
            " [45 46 47 48 49]\n",
            " [50 51 52 53 54]\n",
            " [55 56 57 58 59]\n",
            " [60 61 62 63 64]\n",
            " [65 66 67 68 69]\n",
            " [70 71 72 73 74]\n",
            " [75 76 77 78 79]]\n",
            "\n",
            "Extracting 2nd Row:\n",
            "[5 6 7 8 9]\n"
          ]
        }
      ]
    },
    {
      "cell_type": "code",
      "source": [
        "#start:end:step , start:end:step\n",
        "y=x[1:6:2]\n",
        "print(y)"
      ],
      "metadata": {
        "colab": {
          "base_uri": "https://localhost:8080/"
        },
        "id": "lcGUCfn0Z_3S",
        "outputId": "62854820-9b50-4c0d-c190-71b4802695c9"
      },
      "execution_count": null,
      "outputs": [
        {
          "output_type": "stream",
          "name": "stdout",
          "text": [
            "[[ 5  6  7  8  9]\n",
            " [15 16 17 18 19]\n",
            " [25 26 27 28 29]]\n"
          ]
        }
      ]
    },
    {
      "cell_type": "code",
      "source": [
        "#Printing columns using slicing\n",
        "#[ Rows args* , Columns args*]\n",
        "#start:end:step , start:end:step\n",
        "y = x[::,0:5:2]\n",
        "print(y)\n",
        "\n",
        "y = x[0:5:2,0:5:2]\n",
        "print('\\n',y)"
      ],
      "metadata": {
        "colab": {
          "base_uri": "https://localhost:8080/"
        },
        "id": "zw72JluyackN",
        "outputId": "d5c8e19f-0c18-4b2e-a506-40314b6b554e"
      },
      "execution_count": null,
      "outputs": [
        {
          "output_type": "stream",
          "name": "stdout",
          "text": [
            "[[ 0  2  4]\n",
            " [ 5  7  9]\n",
            " [10 12 14]\n",
            " [15 17 19]\n",
            " [20 22 24]\n",
            " [25 27 29]\n",
            " [30 32 34]\n",
            " [35 37 39]\n",
            " [40 42 44]\n",
            " [45 47 49]\n",
            " [50 52 54]\n",
            " [55 57 59]\n",
            " [60 62 64]\n",
            " [65 67 69]\n",
            " [70 72 74]\n",
            " [75 77 79]]\n",
            "\n",
            " [[ 0  2  4]\n",
            " [10 12 14]\n",
            " [20 22 24]]\n"
          ]
        }
      ]
    },
    {
      "cell_type": "code",
      "source": [
        "#Slicing rows and columns\n",
        "y = x[1:3 , 1:4]\n",
        "print(y)"
      ],
      "metadata": {
        "colab": {
          "base_uri": "https://localhost:8080/"
        },
        "id": "p7CQj_5XcFD9",
        "outputId": "161165fc-ba03-4609-dae4-ae245259a057"
      },
      "execution_count": null,
      "outputs": [
        {
          "output_type": "stream",
          "name": "stdout",
          "text": [
            "[[ 6  7  8]\n",
            " [11 12 13]]\n"
          ]
        }
      ]
    },
    {
      "cell_type": "code",
      "source": [
        "#Initializing an array using linspace()\n",
        "x = np.linspace(0,9,20).reshape(4,-1)\n",
        "print(x)"
      ],
      "metadata": {
        "colab": {
          "base_uri": "https://localhost:8080/"
        },
        "id": "1-XU6Yudcy0V",
        "outputId": "110fc0cc-c645-471d-e84a-5afef1f1f6e2"
      },
      "execution_count": null,
      "outputs": [
        {
          "output_type": "stream",
          "name": "stdout",
          "text": [
            "[[0.         0.47368421 0.94736842 1.42105263 1.89473684]\n",
            " [2.36842105 2.84210526 3.31578947 3.78947368 4.26315789]\n",
            " [4.73684211 5.21052632 5.68421053 6.15789474 6.63157895]\n",
            " [7.10526316 7.57894737 8.05263158 8.52631579 9.        ]]\n"
          ]
        }
      ]
    },
    {
      "cell_type": "code",
      "source": [
        "#Matrix Addition in numpy\n",
        "\n",
        "a = np.arange(0,20).reshape(4,5)\n",
        "b = np.arange(20,40).reshape(4,5)\n",
        "\n",
        "print('Matrix a = \\n',a,'\\n')\n",
        "print('Matrix b = \\n',b,'\\n')\n",
        "\n",
        "c = a + b\n",
        "\n",
        "print('a + b = \\n',c)"
      ],
      "metadata": {
        "colab": {
          "base_uri": "https://localhost:8080/"
        },
        "id": "kTtFVi8RdeqJ",
        "outputId": "ec9beae0-92fe-4ba2-ddba-422bfab5f979"
      },
      "execution_count": null,
      "outputs": [
        {
          "output_type": "stream",
          "name": "stdout",
          "text": [
            "Matrix a = \n",
            " [[ 0  1  2  3  4]\n",
            " [ 5  6  7  8  9]\n",
            " [10 11 12 13 14]\n",
            " [15 16 17 18 19]] \n",
            "\n",
            "Matrix b = \n",
            " [[20 21 22 23 24]\n",
            " [25 26 27 28 29]\n",
            " [30 31 32 33 34]\n",
            " [35 36 37 38 39]] \n",
            "\n",
            "a + b = \n",
            " [[20 22 24 26 28]\n",
            " [30 32 34 36 38]\n",
            " [40 42 44 46 48]\n",
            " [50 52 54 56 58]]\n"
          ]
        }
      ]
    },
    {
      "cell_type": "code",
      "source": [
        "#Horizontal Stacking, number of rows should be same.\n",
        "z =np.hstack( [a,b])\n",
        "print('Horizontal Stacking \\n',z)\n",
        "print(z.shape)\n",
        "\n",
        "#Vertical Stacking, number of columns should be same.\n",
        "z =np.vstack( [a,b])\n",
        "print('\\n Vertical Stacking \\n',z)\n",
        "print(z.shape)\n"
      ],
      "metadata": {
        "colab": {
          "base_uri": "https://localhost:8080/"
        },
        "id": "gVZfShYGfGfI",
        "outputId": "b16bd3ab-b4c9-4e50-b0fe-7169eb5735e3"
      },
      "execution_count": null,
      "outputs": [
        {
          "output_type": "stream",
          "name": "stdout",
          "text": [
            "Horizontal Stacking \n",
            " [[ 0  1  2  3  4 20 21 22 23 24]\n",
            " [ 5  6  7  8  9 25 26 27 28 29]\n",
            " [10 11 12 13 14 30 31 32 33 34]\n",
            " [15 16 17 18 19 35 36 37 38 39]]\n",
            "(4, 10)\n",
            "\n",
            " Vertical Stacking \n",
            " [[ 0  1  2  3  4]\n",
            " [ 5  6  7  8  9]\n",
            " [10 11 12 13 14]\n",
            " [15 16 17 18 19]\n",
            " [20 21 22 23 24]\n",
            " [25 26 27 28 29]\n",
            " [30 31 32 33 34]\n",
            " [35 36 37 38 39]]\n",
            "(8, 5)\n"
          ]
        }
      ]
    },
    {
      "cell_type": "code",
      "source": [
        "#Finding max element in a matrix/array\n",
        "#Python\n",
        "print( x.max() )\n",
        "#numpy\n",
        "np.max(x)"
      ],
      "metadata": {
        "colab": {
          "base_uri": "https://localhost:8080/"
        },
        "id": "4AjBD9Z3gEGa",
        "outputId": "507bec6e-1ee7-44dd-93a9-9d18cc03b574"
      },
      "execution_count": null,
      "outputs": [
        {
          "output_type": "stream",
          "name": "stdout",
          "text": [
            "9.0\n"
          ]
        },
        {
          "output_type": "execute_result",
          "data": {
            "text/plain": [
              "9.0"
            ]
          },
          "metadata": {},
          "execution_count": 30
        }
      ]
    },
    {
      "cell_type": "code",
      "source": [
        "#Maximim of an axis\n",
        "print( x.max(axis=1))\n",
        "print( x.max(axis=0))"
      ],
      "metadata": {
        "colab": {
          "base_uri": "https://localhost:8080/"
        },
        "id": "ICe_hdg_gxLE",
        "outputId": "dbc619a2-ef52-4890-bf4c-8624620a92f2"
      },
      "execution_count": null,
      "outputs": [
        {
          "output_type": "stream",
          "name": "stdout",
          "text": [
            "[1.89473684 4.26315789 6.63157895 9.        ]\n",
            "[7.10526316 7.57894737 8.05263158 8.52631579 9.        ]\n"
          ]
        }
      ]
    }
  ]
}